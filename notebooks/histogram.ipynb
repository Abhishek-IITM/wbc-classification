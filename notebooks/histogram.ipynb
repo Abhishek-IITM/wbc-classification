{
 "cells": [
  {
   "cell_type": "code",
   "execution_count": 1,
   "metadata": {
    "collapsed": false,
    "deletable": true,
    "editable": true
   },
   "outputs": [],
   "source": [
    "import numpy as np\n",
    "import matplotlib.pyplot as plt\n",
    "import csv\n",
    "import cv2\n",
    "import scipy\n",
    "from sklearn.preprocessing import LabelEncoder\n",
    "\n",
    "BASE_PATH = '/home/ec2-user/cell_classifier/'"
   ]
  },
  {
   "cell_type": "code",
   "execution_count": 2,
   "metadata": {
    "collapsed": true,
    "deletable": true,
    "editable": true
   },
   "outputs": [],
   "source": [
    "def get_filename_for_index(index):\n",
    "    PREFIX = 'images/BloodImage_'\n",
    "    num_zeros = 5 - len(index)\n",
    "    path = '0' * num_zeros + index\n",
    "    return PREFIX + path + '.jpg'"
   ]
  },
  {
   "cell_type": "code",
   "execution_count": 4,
   "metadata": {
    "collapsed": false,
    "deletable": true,
    "editable": true
   },
   "outputs": [],
   "source": [
    "reader = csv.reader(open(BASE_PATH + 'labels.csv'))\n",
    "# skip the header\n",
    "next(reader)\n",
    "\n",
    "X = []\n",
    "y = []\n",
    "\n",
    "for row in reader:\n",
    "    label = row[2]\n",
    "    if len(label) > 0 and label.find(',') == -1:\n",
    "        y.append(label)\n",
    "\n",
    "y = np.asarray(y)"
   ]
  },
  {
   "cell_type": "code",
   "execution_count": 5,
   "metadata": {
    "collapsed": false,
    "deletable": true,
    "editable": true
   },
   "outputs": [],
   "source": [
    "encoder = LabelEncoder()\n",
    "encoder.fit(y)\n",
    "encoded_y = encoder.transform(y)"
   ]
  },
  {
   "cell_type": "code",
   "execution_count": 6,
   "metadata": {
    "collapsed": false,
    "deletable": true,
    "editable": true
   },
   "outputs": [
    {
     "data": {
      "text/plain": [
       "array([4, 4, 4, 4, 4, 4, 4, 4, 0, 1, 4, 4, 4, 4, 3, 4, 1, 4, 4, 2, 2, 4, 1,\n",
       "       4, 1, 1, 4, 4, 4, 4, 4, 1, 2, 2, 4, 3, 1, 1, 1, 4, 2, 1, 1, 4, 4, 4,\n",
       "       2, 2, 1, 1, 1, 1, 1, 4, 1, 4, 4, 1, 1, 4, 4, 4, 4, 1, 2, 4, 4, 4, 4,\n",
       "       4, 3, 4, 4, 1, 2, 1, 4, 4, 1, 1, 1, 1, 1, 4, 2, 1, 1, 3, 4, 1, 1, 1,\n",
       "       3, 2, 4, 4, 1, 4, 3, 2, 1, 4, 4, 4, 3, 4, 0, 1, 2, 1, 4, 1, 1, 2, 1,\n",
       "       4, 1, 1, 4, 1, 2, 1, 4, 1, 1, 4, 2, 1, 4, 1, 4, 1, 4, 4, 1, 4, 4, 4,\n",
       "       4, 4, 0, 4, 4, 4, 1, 4, 4, 1, 4, 1, 1, 1, 4, 4, 2, 4, 3, 4, 4, 4, 1,\n",
       "       4, 1, 4, 1, 4, 2, 4, 1, 4, 4, 2, 4, 4, 4, 4, 2, 4, 1, 1, 4, 4, 4, 2,\n",
       "       3, 1, 4, 1, 2, 4, 4, 3, 2, 4, 4, 1, 4, 4, 1, 2, 4, 4, 4, 4, 4, 4, 4,\n",
       "       1, 4, 1, 2, 3, 4, 4, 2, 1, 4, 1, 3, 4, 2, 1, 4, 4, 4, 1, 2, 1, 4, 4,\n",
       "       1, 2, 4, 1, 3, 4, 4, 3, 4, 2, 1, 4, 4, 4, 1, 1, 3, 1, 4, 4, 4, 4, 4,\n",
       "       4, 1, 4, 4, 4, 4, 4, 2, 4, 4, 3, 4, 4, 3, 4, 4, 4, 3, 1, 4, 4, 3, 4,\n",
       "       4, 4, 4, 4, 4, 4, 4, 4, 4, 3, 4, 4, 4, 4, 4, 4, 3, 4, 1, 1, 4, 2, 4,\n",
       "       4, 4, 4, 1, 1, 4, 4, 2, 4, 1, 4, 4, 4, 4, 4, 4, 4, 4, 4, 4, 4, 4, 4,\n",
       "       1, 4, 4, 4, 4, 4, 1, 4, 4, 4, 1, 4, 4, 4, 4, 4, 4, 4, 4, 4, 4, 4, 4,\n",
       "       4, 4, 4, 4, 4, 4, 1])"
      ]
     },
     "execution_count": 6,
     "metadata": {},
     "output_type": "execute_result"
    }
   ],
   "source": [
    "encoded_y"
   ]
  },
  {
   "cell_type": "code",
   "execution_count": 7,
   "metadata": {
    "collapsed": false,
    "deletable": true,
    "editable": true
   },
   "outputs": [],
   "source": [
    "counts = np.bincount(encoded_y)"
   ]
  },
  {
   "cell_type": "code",
   "execution_count": 8,
   "metadata": {
    "collapsed": false,
    "deletable": true,
    "editable": true
   },
   "outputs": [],
   "source": [
    "percentages = 100 * counts/sum(counts)"
   ]
  },
  {
   "cell_type": "code",
   "execution_count": 9,
   "metadata": {
    "collapsed": false,
    "deletable": true,
    "editable": true
   },
   "outputs": [
    {
     "data": {
      "text/plain": [
       "array([  0.85227273,  25.        ,   9.375     ,   5.96590909,  58.80681818])"
      ]
     },
     "execution_count": 9,
     "metadata": {},
     "output_type": "execute_result"
    }
   ],
   "source": [
    "percentages"
   ]
  },
  {
   "cell_type": "code",
   "execution_count": 10,
   "metadata": {
    "collapsed": false,
    "deletable": true,
    "editable": true
   },
   "outputs": [
    {
     "data": {
      "image/png": "[encoded data removed]",
      "text/plain": [
       "<matplotlib.figure.Figure at 0x7ff45b2ea940>"
      ]
     },
     "metadata": {},
     "output_type": "display_data"
    }
   ],
   "source": [
    "plt.bar(list(range(5)), percentages)\n",
    "plt.show()"
   ]
  },
  {
   "cell_type": "code",
   "execution_count": 11,
   "metadata": {
    "collapsed": false,
    "deletable": true,
    "editable": true
   },
   "outputs": [
    {
     "data": {
      "text/plain": [
       "array(['BASOPHIL', 'EOSINOPHIL', 'LYMPHOCYTE', 'MONOCYTE', 'NEUTROPHIL'], \n",
       "      dtype='<U10')"
      ]
     },
     "execution_count": 11,
     "metadata": {},
     "output_type": "execute_result"
    }
   ],
   "source": [
    "encoder.inverse_transform(list(range(5)))"
   ]
  },
  {
   "cell_type": "code",
   "execution_count": null,
   "metadata": {
    "collapsed": true,
    "deletable": true,
    "editable": true
   },
   "outputs": [],
   "source": []
  }
 ],
 "metadata": {
  "kernelspec": {
   "display_name": "Python 3",
   "language": "python",
   "name": "python3"
  },
  "language_info": {
   "codemirror_mode": {
    "name": "ipython",
    "version": 3
   },
   "file_extension": ".py",
   "mimetype": "text/x-python",
   "name": "python",
   "nbconvert_exporter": "python",
   "pygments_lexer": "ipython3",
   "version": "3.4.3"
  }
 },
 "nbformat": 4,
 "nbformat_minor": 2
}
